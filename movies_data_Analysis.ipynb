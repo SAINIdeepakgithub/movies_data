{
 "cells": [
  {
   "cell_type": "code",
   "execution_count": 4,
   "id": "4cdd76c5-5a3c-46bd-b2f4-6a7dcc851bfa",
   "metadata": {},
   "outputs": [],
   "source": [
    "import pandas as pd\n",
    "import numpy as np"
   ]
  },
  {
   "cell_type": "code",
   "execution_count": 6,
   "id": "dea6463b-6991-41e0-b421-ad243b3785a3",
   "metadata": {},
   "outputs": [],
   "source": [
    "df = pd.read_csv('data.csv')"
   ]
  },
  {
   "cell_type": "code",
   "execution_count": 8,
   "id": "59c4fd49-afcd-4c56-a04d-1c6bc5a4b18f",
   "metadata": {},
   "outputs": [
    {
     "data": {
      "text/html": [
       "<div>\n",
       "<style scoped>\n",
       "    .dataframe tbody tr th:only-of-type {\n",
       "        vertical-align: middle;\n",
       "    }\n",
       "\n",
       "    .dataframe tbody tr th {\n",
       "        vertical-align: top;\n",
       "    }\n",
       "\n",
       "    .dataframe thead th {\n",
       "        text-align: right;\n",
       "    }\n",
       "</style>\n",
       "<table border=\"1\" class=\"dataframe\">\n",
       "  <thead>\n",
       "    <tr style=\"text-align: right;\">\n",
       "      <th></th>\n",
       "      <th>title</th>\n",
       "      <th>type</th>\n",
       "      <th>genres</th>\n",
       "      <th>releaseYear</th>\n",
       "      <th>imdbId</th>\n",
       "      <th>imdbAverageRating</th>\n",
       "      <th>imdbNumVotes</th>\n",
       "      <th>availableCountries</th>\n",
       "    </tr>\n",
       "  </thead>\n",
       "  <tbody>\n",
       "    <tr>\n",
       "      <th>0</th>\n",
       "      <td>Ariel</td>\n",
       "      <td>movie</td>\n",
       "      <td>Comedy, Crime, Romance</td>\n",
       "      <td>1988.0</td>\n",
       "      <td>tt0094675</td>\n",
       "      <td>7.4</td>\n",
       "      <td>8776.0</td>\n",
       "      <td>JP</td>\n",
       "    </tr>\n",
       "    <tr>\n",
       "      <th>1</th>\n",
       "      <td>Shadows in Paradise</td>\n",
       "      <td>movie</td>\n",
       "      <td>Comedy, Drama, Music</td>\n",
       "      <td>1986.0</td>\n",
       "      <td>tt0092149</td>\n",
       "      <td>7.5</td>\n",
       "      <td>7538.0</td>\n",
       "      <td>JP</td>\n",
       "    </tr>\n",
       "    <tr>\n",
       "      <th>2</th>\n",
       "      <td>Forrest Gump</td>\n",
       "      <td>movie</td>\n",
       "      <td>Drama, Romance</td>\n",
       "      <td>1994.0</td>\n",
       "      <td>tt0109830</td>\n",
       "      <td>8.8</td>\n",
       "      <td>2320505.0</td>\n",
       "      <td>JP</td>\n",
       "    </tr>\n",
       "    <tr>\n",
       "      <th>3</th>\n",
       "      <td>The Fifth Element</td>\n",
       "      <td>movie</td>\n",
       "      <td>Action, Adventure, Sci-Fi</td>\n",
       "      <td>1997.0</td>\n",
       "      <td>tt0119116</td>\n",
       "      <td>7.6</td>\n",
       "      <td>517631.0</td>\n",
       "      <td>JP</td>\n",
       "    </tr>\n",
       "    <tr>\n",
       "      <th>4</th>\n",
       "      <td>My Life Without Me</td>\n",
       "      <td>movie</td>\n",
       "      <td>Drama, Romance</td>\n",
       "      <td>2003.0</td>\n",
       "      <td>tt0314412</td>\n",
       "      <td>7.4</td>\n",
       "      <td>26044.0</td>\n",
       "      <td>JP</td>\n",
       "    </tr>\n",
       "    <tr>\n",
       "      <th>...</th>\n",
       "      <td>...</td>\n",
       "      <td>...</td>\n",
       "      <td>...</td>\n",
       "      <td>...</td>\n",
       "      <td>...</td>\n",
       "      <td>...</td>\n",
       "      <td>...</td>\n",
       "      <td>...</td>\n",
       "    </tr>\n",
       "    <tr>\n",
       "      <th>9840</th>\n",
       "      <td>Shin Tennis no Ouji-sama: Hyoutei vs Rikkai - ...</td>\n",
       "      <td>tv</td>\n",
       "      <td>Animation, Sport</td>\n",
       "      <td>2021.0</td>\n",
       "      <td>tt12451810</td>\n",
       "      <td>6.6</td>\n",
       "      <td>13.0</td>\n",
       "      <td>JP</td>\n",
       "    </tr>\n",
       "    <tr>\n",
       "      <th>9841</th>\n",
       "      <td>Gangnam B-Side</td>\n",
       "      <td>tv</td>\n",
       "      <td>Crime, Drama, Mystery</td>\n",
       "      <td>2024.0</td>\n",
       "      <td>tt31390557</td>\n",
       "      <td>NaN</td>\n",
       "      <td>NaN</td>\n",
       "      <td>US</td>\n",
       "    </tr>\n",
       "    <tr>\n",
       "      <th>9842</th>\n",
       "      <td>Concordia</td>\n",
       "      <td>tv</td>\n",
       "      <td>Drama, Thriller</td>\n",
       "      <td>2023.0</td>\n",
       "      <td>tt11324982</td>\n",
       "      <td>4.7</td>\n",
       "      <td>316.0</td>\n",
       "      <td>JP</td>\n",
       "    </tr>\n",
       "    <tr>\n",
       "      <th>9843</th>\n",
       "      <td>The Disappearance of Kimmy Diore</td>\n",
       "      <td>tv</td>\n",
       "      <td>Drama</td>\n",
       "      <td>2024.0</td>\n",
       "      <td>tt27207590</td>\n",
       "      <td>6.2</td>\n",
       "      <td>109.0</td>\n",
       "      <td>US</td>\n",
       "    </tr>\n",
       "    <tr>\n",
       "      <th>9844</th>\n",
       "      <td>Subscription Adultery</td>\n",
       "      <td>tv</td>\n",
       "      <td>Drama, Romance</td>\n",
       "      <td>2023.0</td>\n",
       "      <td>tt29928960</td>\n",
       "      <td>NaN</td>\n",
       "      <td>NaN</td>\n",
       "      <td>JP</td>\n",
       "    </tr>\n",
       "  </tbody>\n",
       "</table>\n",
       "<p>9845 rows × 8 columns</p>\n",
       "</div>"
      ],
      "text/plain": [
       "                                                  title   type  \\\n",
       "0                                                 Ariel  movie   \n",
       "1                                   Shadows in Paradise  movie   \n",
       "2                                          Forrest Gump  movie   \n",
       "3                                     The Fifth Element  movie   \n",
       "4                                    My Life Without Me  movie   \n",
       "...                                                 ...    ...   \n",
       "9840  Shin Tennis no Ouji-sama: Hyoutei vs Rikkai - ...     tv   \n",
       "9841                                     Gangnam B-Side     tv   \n",
       "9842                                          Concordia     tv   \n",
       "9843                   The Disappearance of Kimmy Diore     tv   \n",
       "9844                              Subscription Adultery     tv   \n",
       "\n",
       "                         genres  releaseYear      imdbId  imdbAverageRating  \\\n",
       "0        Comedy, Crime, Romance       1988.0   tt0094675                7.4   \n",
       "1          Comedy, Drama, Music       1986.0   tt0092149                7.5   \n",
       "2                Drama, Romance       1994.0   tt0109830                8.8   \n",
       "3     Action, Adventure, Sci-Fi       1997.0   tt0119116                7.6   \n",
       "4                Drama, Romance       2003.0   tt0314412                7.4   \n",
       "...                         ...          ...         ...                ...   \n",
       "9840           Animation, Sport       2021.0  tt12451810                6.6   \n",
       "9841      Crime, Drama, Mystery       2024.0  tt31390557                NaN   \n",
       "9842            Drama, Thriller       2023.0  tt11324982                4.7   \n",
       "9843                      Drama       2024.0  tt27207590                6.2   \n",
       "9844             Drama, Romance       2023.0  tt29928960                NaN   \n",
       "\n",
       "      imdbNumVotes availableCountries  \n",
       "0           8776.0                 JP  \n",
       "1           7538.0                 JP  \n",
       "2        2320505.0                 JP  \n",
       "3         517631.0                 JP  \n",
       "4          26044.0                 JP  \n",
       "...            ...                ...  \n",
       "9840          13.0                 JP  \n",
       "9841           NaN                 US  \n",
       "9842         316.0                 JP  \n",
       "9843         109.0                 US  \n",
       "9844           NaN                 JP  \n",
       "\n",
       "[9845 rows x 8 columns]"
      ]
     },
     "execution_count": 8,
     "metadata": {},
     "output_type": "execute_result"
    }
   ],
   "source": [
    "df"
   ]
  },
  {
   "cell_type": "markdown",
   "id": "1096cd73-c92c-43dd-b3ce-cb96755729d2",
   "metadata": {},
   "source": [
    "## Data Cleaning "
   ]
  },
  {
   "cell_type": "code",
   "execution_count": 11,
   "id": "cfaf059a-58fb-4c2d-b36e-c8afb36dc9b3",
   "metadata": {},
   "outputs": [
    {
     "data": {
      "text/plain": [
       "title                  576\n",
       "type                     0\n",
       "genres                 265\n",
       "releaseYear             24\n",
       "imdbId                 906\n",
       "imdbAverageRating     1174\n",
       "imdbNumVotes          1174\n",
       "availableCountries       0\n",
       "dtype: int64"
      ]
     },
     "execution_count": 11,
     "metadata": {},
     "output_type": "execute_result"
    }
   ],
   "source": [
    "df.isnull().sum()"
   ]
  },
  {
   "cell_type": "markdown",
   "id": "0f267ec3-c181-4676-9ab9-80756dfc809f",
   "metadata": {},
   "source": [
    "#### remove NaN values "
   ]
  },
  {
   "cell_type": "code",
   "execution_count": 14,
   "id": "f5055632-c168-47fa-a8b1-fee10dc27d8b",
   "metadata": {},
   "outputs": [],
   "source": [
    "remove_missing_values = df.dropna()"
   ]
  },
  {
   "cell_type": "code",
   "execution_count": 16,
   "id": "264cc718-f567-485d-82f4-4d4e6a7640d9",
   "metadata": {},
   "outputs": [
    {
     "data": {
      "text/html": [
       "<div>\n",
       "<style scoped>\n",
       "    .dataframe tbody tr th:only-of-type {\n",
       "        vertical-align: middle;\n",
       "    }\n",
       "\n",
       "    .dataframe tbody tr th {\n",
       "        vertical-align: top;\n",
       "    }\n",
       "\n",
       "    .dataframe thead th {\n",
       "        text-align: right;\n",
       "    }\n",
       "</style>\n",
       "<table border=\"1\" class=\"dataframe\">\n",
       "  <thead>\n",
       "    <tr style=\"text-align: right;\">\n",
       "      <th></th>\n",
       "      <th>title</th>\n",
       "      <th>type</th>\n",
       "      <th>genres</th>\n",
       "      <th>releaseYear</th>\n",
       "      <th>imdbId</th>\n",
       "      <th>imdbAverageRating</th>\n",
       "      <th>imdbNumVotes</th>\n",
       "      <th>availableCountries</th>\n",
       "    </tr>\n",
       "  </thead>\n",
       "  <tbody>\n",
       "    <tr>\n",
       "      <th>0</th>\n",
       "      <td>Ariel</td>\n",
       "      <td>movie</td>\n",
       "      <td>Comedy, Crime, Romance</td>\n",
       "      <td>1988.0</td>\n",
       "      <td>tt0094675</td>\n",
       "      <td>7.4</td>\n",
       "      <td>8776.0</td>\n",
       "      <td>JP</td>\n",
       "    </tr>\n",
       "    <tr>\n",
       "      <th>1</th>\n",
       "      <td>Shadows in Paradise</td>\n",
       "      <td>movie</td>\n",
       "      <td>Comedy, Drama, Music</td>\n",
       "      <td>1986.0</td>\n",
       "      <td>tt0092149</td>\n",
       "      <td>7.5</td>\n",
       "      <td>7538.0</td>\n",
       "      <td>JP</td>\n",
       "    </tr>\n",
       "    <tr>\n",
       "      <th>2</th>\n",
       "      <td>Forrest Gump</td>\n",
       "      <td>movie</td>\n",
       "      <td>Drama, Romance</td>\n",
       "      <td>1994.0</td>\n",
       "      <td>tt0109830</td>\n",
       "      <td>8.8</td>\n",
       "      <td>2320505.0</td>\n",
       "      <td>JP</td>\n",
       "    </tr>\n",
       "    <tr>\n",
       "      <th>3</th>\n",
       "      <td>The Fifth Element</td>\n",
       "      <td>movie</td>\n",
       "      <td>Action, Adventure, Sci-Fi</td>\n",
       "      <td>1997.0</td>\n",
       "      <td>tt0119116</td>\n",
       "      <td>7.6</td>\n",
       "      <td>517631.0</td>\n",
       "      <td>JP</td>\n",
       "    </tr>\n",
       "    <tr>\n",
       "      <th>4</th>\n",
       "      <td>My Life Without Me</td>\n",
       "      <td>movie</td>\n",
       "      <td>Drama, Romance</td>\n",
       "      <td>2003.0</td>\n",
       "      <td>tt0314412</td>\n",
       "      <td>7.4</td>\n",
       "      <td>26044.0</td>\n",
       "      <td>JP</td>\n",
       "    </tr>\n",
       "    <tr>\n",
       "      <th>...</th>\n",
       "      <td>...</td>\n",
       "      <td>...</td>\n",
       "      <td>...</td>\n",
       "      <td>...</td>\n",
       "      <td>...</td>\n",
       "      <td>...</td>\n",
       "      <td>...</td>\n",
       "      <td>...</td>\n",
       "    </tr>\n",
       "    <tr>\n",
       "      <th>9838</th>\n",
       "      <td>Black Clover</td>\n",
       "      <td>tv</td>\n",
       "      <td>Action, Adventure, Animation</td>\n",
       "      <td>2017.0</td>\n",
       "      <td>tt7441658</td>\n",
       "      <td>8.2</td>\n",
       "      <td>38403.0</td>\n",
       "      <td>JP, US</td>\n",
       "    </tr>\n",
       "    <tr>\n",
       "      <th>9839</th>\n",
       "      <td>Cells at Work! Code Black</td>\n",
       "      <td>tv</td>\n",
       "      <td>Action, Animation, Comedy</td>\n",
       "      <td>2021.0</td>\n",
       "      <td>tt12150836</td>\n",
       "      <td>7.5</td>\n",
       "      <td>729.0</td>\n",
       "      <td>JP</td>\n",
       "    </tr>\n",
       "    <tr>\n",
       "      <th>9840</th>\n",
       "      <td>Shin Tennis no Ouji-sama: Hyoutei vs Rikkai - ...</td>\n",
       "      <td>tv</td>\n",
       "      <td>Animation, Sport</td>\n",
       "      <td>2021.0</td>\n",
       "      <td>tt12451810</td>\n",
       "      <td>6.6</td>\n",
       "      <td>13.0</td>\n",
       "      <td>JP</td>\n",
       "    </tr>\n",
       "    <tr>\n",
       "      <th>9842</th>\n",
       "      <td>Concordia</td>\n",
       "      <td>tv</td>\n",
       "      <td>Drama, Thriller</td>\n",
       "      <td>2023.0</td>\n",
       "      <td>tt11324982</td>\n",
       "      <td>4.7</td>\n",
       "      <td>316.0</td>\n",
       "      <td>JP</td>\n",
       "    </tr>\n",
       "    <tr>\n",
       "      <th>9843</th>\n",
       "      <td>The Disappearance of Kimmy Diore</td>\n",
       "      <td>tv</td>\n",
       "      <td>Drama</td>\n",
       "      <td>2024.0</td>\n",
       "      <td>tt27207590</td>\n",
       "      <td>6.2</td>\n",
       "      <td>109.0</td>\n",
       "      <td>US</td>\n",
       "    </tr>\n",
       "  </tbody>\n",
       "</table>\n",
       "<p>8660 rows × 8 columns</p>\n",
       "</div>"
      ],
      "text/plain": [
       "                                                  title   type  \\\n",
       "0                                                 Ariel  movie   \n",
       "1                                   Shadows in Paradise  movie   \n",
       "2                                          Forrest Gump  movie   \n",
       "3                                     The Fifth Element  movie   \n",
       "4                                    My Life Without Me  movie   \n",
       "...                                                 ...    ...   \n",
       "9838                                       Black Clover     tv   \n",
       "9839                          Cells at Work! Code Black     tv   \n",
       "9840  Shin Tennis no Ouji-sama: Hyoutei vs Rikkai - ...     tv   \n",
       "9842                                          Concordia     tv   \n",
       "9843                   The Disappearance of Kimmy Diore     tv   \n",
       "\n",
       "                            genres  releaseYear      imdbId  \\\n",
       "0           Comedy, Crime, Romance       1988.0   tt0094675   \n",
       "1             Comedy, Drama, Music       1986.0   tt0092149   \n",
       "2                   Drama, Romance       1994.0   tt0109830   \n",
       "3        Action, Adventure, Sci-Fi       1997.0   tt0119116   \n",
       "4                   Drama, Romance       2003.0   tt0314412   \n",
       "...                            ...          ...         ...   \n",
       "9838  Action, Adventure, Animation       2017.0   tt7441658   \n",
       "9839     Action, Animation, Comedy       2021.0  tt12150836   \n",
       "9840              Animation, Sport       2021.0  tt12451810   \n",
       "9842               Drama, Thriller       2023.0  tt11324982   \n",
       "9843                         Drama       2024.0  tt27207590   \n",
       "\n",
       "      imdbAverageRating  imdbNumVotes availableCountries  \n",
       "0                   7.4        8776.0                 JP  \n",
       "1                   7.5        7538.0                 JP  \n",
       "2                   8.8     2320505.0                 JP  \n",
       "3                   7.6      517631.0                 JP  \n",
       "4                   7.4       26044.0                 JP  \n",
       "...                 ...           ...                ...  \n",
       "9838                8.2       38403.0             JP, US  \n",
       "9839                7.5         729.0                 JP  \n",
       "9840                6.6          13.0                 JP  \n",
       "9842                4.7         316.0                 JP  \n",
       "9843                6.2         109.0                 US  \n",
       "\n",
       "[8660 rows x 8 columns]"
      ]
     },
     "execution_count": 16,
     "metadata": {},
     "output_type": "execute_result"
    }
   ],
   "source": [
    "remove_missing_values"
   ]
  },
  {
   "cell_type": "code",
   "execution_count": 18,
   "id": "8ff61560-8e86-4852-9ed1-66f898d7a731",
   "metadata": {},
   "outputs": [],
   "source": [
    "df = remove_missing_values"
   ]
  },
  {
   "cell_type": "code",
   "execution_count": 20,
   "id": "296ed587-7728-44fb-9fb3-93a66f188f55",
   "metadata": {},
   "outputs": [
    {
     "data": {
      "text/plain": [
       "title                 0\n",
       "type                  0\n",
       "genres                0\n",
       "releaseYear           0\n",
       "imdbId                0\n",
       "imdbAverageRating     0\n",
       "imdbNumVotes          0\n",
       "availableCountries    0\n",
       "dtype: int64"
      ]
     },
     "execution_count": 20,
     "metadata": {},
     "output_type": "execute_result"
    }
   ],
   "source": [
    "df.isnull().sum()\n"
   ]
  },
  {
   "cell_type": "markdown",
   "id": "770eefc7-b413-46ce-82e3-c93ba69996a5",
   "metadata": {},
   "source": [
    "#### convert float to int in releaseYear Column "
   ]
  },
  {
   "cell_type": "code",
   "execution_count": 23,
   "id": "85b93db9-6cab-48ff-980d-b66c346cb008",
   "metadata": {},
   "outputs": [
    {
     "name": "stderr",
     "output_type": "stream",
     "text": [
      "C:\\Users\\DELL\\AppData\\Local\\Temp\\ipykernel_5700\\4030920754.py:1: SettingWithCopyWarning: \n",
      "A value is trying to be set on a copy of a slice from a DataFrame.\n",
      "Try using .loc[row_indexer,col_indexer] = value instead\n",
      "\n",
      "See the caveats in the documentation: https://pandas.pydata.org/pandas-docs/stable/user_guide/indexing.html#returning-a-view-versus-a-copy\n",
      "  df['releaseYear'] = df['releaseYear'].astype(int)\n"
     ]
    }
   ],
   "source": [
    "df['releaseYear'] = df['releaseYear'].astype(int)"
   ]
  },
  {
   "cell_type": "code",
   "execution_count": 25,
   "id": "1e8eaf00-92ae-42c0-ad0b-a1c54d972ad7",
   "metadata": {},
   "outputs": [
    {
     "data": {
      "text/html": [
       "<div>\n",
       "<style scoped>\n",
       "    .dataframe tbody tr th:only-of-type {\n",
       "        vertical-align: middle;\n",
       "    }\n",
       "\n",
       "    .dataframe tbody tr th {\n",
       "        vertical-align: top;\n",
       "    }\n",
       "\n",
       "    .dataframe thead th {\n",
       "        text-align: right;\n",
       "    }\n",
       "</style>\n",
       "<table border=\"1\" class=\"dataframe\">\n",
       "  <thead>\n",
       "    <tr style=\"text-align: right;\">\n",
       "      <th></th>\n",
       "      <th>title</th>\n",
       "      <th>type</th>\n",
       "      <th>genres</th>\n",
       "      <th>releaseYear</th>\n",
       "      <th>imdbId</th>\n",
       "      <th>imdbAverageRating</th>\n",
       "      <th>imdbNumVotes</th>\n",
       "      <th>availableCountries</th>\n",
       "    </tr>\n",
       "  </thead>\n",
       "  <tbody>\n",
       "    <tr>\n",
       "      <th>0</th>\n",
       "      <td>Ariel</td>\n",
       "      <td>movie</td>\n",
       "      <td>Comedy, Crime, Romance</td>\n",
       "      <td>1988</td>\n",
       "      <td>tt0094675</td>\n",
       "      <td>7.4</td>\n",
       "      <td>8776.0</td>\n",
       "      <td>JP</td>\n",
       "    </tr>\n",
       "    <tr>\n",
       "      <th>1</th>\n",
       "      <td>Shadows in Paradise</td>\n",
       "      <td>movie</td>\n",
       "      <td>Comedy, Drama, Music</td>\n",
       "      <td>1986</td>\n",
       "      <td>tt0092149</td>\n",
       "      <td>7.5</td>\n",
       "      <td>7538.0</td>\n",
       "      <td>JP</td>\n",
       "    </tr>\n",
       "    <tr>\n",
       "      <th>2</th>\n",
       "      <td>Forrest Gump</td>\n",
       "      <td>movie</td>\n",
       "      <td>Drama, Romance</td>\n",
       "      <td>1994</td>\n",
       "      <td>tt0109830</td>\n",
       "      <td>8.8</td>\n",
       "      <td>2320505.0</td>\n",
       "      <td>JP</td>\n",
       "    </tr>\n",
       "    <tr>\n",
       "      <th>3</th>\n",
       "      <td>The Fifth Element</td>\n",
       "      <td>movie</td>\n",
       "      <td>Action, Adventure, Sci-Fi</td>\n",
       "      <td>1997</td>\n",
       "      <td>tt0119116</td>\n",
       "      <td>7.6</td>\n",
       "      <td>517631.0</td>\n",
       "      <td>JP</td>\n",
       "    </tr>\n",
       "    <tr>\n",
       "      <th>4</th>\n",
       "      <td>My Life Without Me</td>\n",
       "      <td>movie</td>\n",
       "      <td>Drama, Romance</td>\n",
       "      <td>2003</td>\n",
       "      <td>tt0314412</td>\n",
       "      <td>7.4</td>\n",
       "      <td>26044.0</td>\n",
       "      <td>JP</td>\n",
       "    </tr>\n",
       "    <tr>\n",
       "      <th>...</th>\n",
       "      <td>...</td>\n",
       "      <td>...</td>\n",
       "      <td>...</td>\n",
       "      <td>...</td>\n",
       "      <td>...</td>\n",
       "      <td>...</td>\n",
       "      <td>...</td>\n",
       "      <td>...</td>\n",
       "    </tr>\n",
       "    <tr>\n",
       "      <th>9838</th>\n",
       "      <td>Black Clover</td>\n",
       "      <td>tv</td>\n",
       "      <td>Action, Adventure, Animation</td>\n",
       "      <td>2017</td>\n",
       "      <td>tt7441658</td>\n",
       "      <td>8.2</td>\n",
       "      <td>38403.0</td>\n",
       "      <td>JP, US</td>\n",
       "    </tr>\n",
       "    <tr>\n",
       "      <th>9839</th>\n",
       "      <td>Cells at Work! Code Black</td>\n",
       "      <td>tv</td>\n",
       "      <td>Action, Animation, Comedy</td>\n",
       "      <td>2021</td>\n",
       "      <td>tt12150836</td>\n",
       "      <td>7.5</td>\n",
       "      <td>729.0</td>\n",
       "      <td>JP</td>\n",
       "    </tr>\n",
       "    <tr>\n",
       "      <th>9840</th>\n",
       "      <td>Shin Tennis no Ouji-sama: Hyoutei vs Rikkai - ...</td>\n",
       "      <td>tv</td>\n",
       "      <td>Animation, Sport</td>\n",
       "      <td>2021</td>\n",
       "      <td>tt12451810</td>\n",
       "      <td>6.6</td>\n",
       "      <td>13.0</td>\n",
       "      <td>JP</td>\n",
       "    </tr>\n",
       "    <tr>\n",
       "      <th>9842</th>\n",
       "      <td>Concordia</td>\n",
       "      <td>tv</td>\n",
       "      <td>Drama, Thriller</td>\n",
       "      <td>2023</td>\n",
       "      <td>tt11324982</td>\n",
       "      <td>4.7</td>\n",
       "      <td>316.0</td>\n",
       "      <td>JP</td>\n",
       "    </tr>\n",
       "    <tr>\n",
       "      <th>9843</th>\n",
       "      <td>The Disappearance of Kimmy Diore</td>\n",
       "      <td>tv</td>\n",
       "      <td>Drama</td>\n",
       "      <td>2024</td>\n",
       "      <td>tt27207590</td>\n",
       "      <td>6.2</td>\n",
       "      <td>109.0</td>\n",
       "      <td>US</td>\n",
       "    </tr>\n",
       "  </tbody>\n",
       "</table>\n",
       "<p>8660 rows × 8 columns</p>\n",
       "</div>"
      ],
      "text/plain": [
       "                                                  title   type  \\\n",
       "0                                                 Ariel  movie   \n",
       "1                                   Shadows in Paradise  movie   \n",
       "2                                          Forrest Gump  movie   \n",
       "3                                     The Fifth Element  movie   \n",
       "4                                    My Life Without Me  movie   \n",
       "...                                                 ...    ...   \n",
       "9838                                       Black Clover     tv   \n",
       "9839                          Cells at Work! Code Black     tv   \n",
       "9840  Shin Tennis no Ouji-sama: Hyoutei vs Rikkai - ...     tv   \n",
       "9842                                          Concordia     tv   \n",
       "9843                   The Disappearance of Kimmy Diore     tv   \n",
       "\n",
       "                            genres  releaseYear      imdbId  \\\n",
       "0           Comedy, Crime, Romance         1988   tt0094675   \n",
       "1             Comedy, Drama, Music         1986   tt0092149   \n",
       "2                   Drama, Romance         1994   tt0109830   \n",
       "3        Action, Adventure, Sci-Fi         1997   tt0119116   \n",
       "4                   Drama, Romance         2003   tt0314412   \n",
       "...                            ...          ...         ...   \n",
       "9838  Action, Adventure, Animation         2017   tt7441658   \n",
       "9839     Action, Animation, Comedy         2021  tt12150836   \n",
       "9840              Animation, Sport         2021  tt12451810   \n",
       "9842               Drama, Thriller         2023  tt11324982   \n",
       "9843                         Drama         2024  tt27207590   \n",
       "\n",
       "      imdbAverageRating  imdbNumVotes availableCountries  \n",
       "0                   7.4        8776.0                 JP  \n",
       "1                   7.5        7538.0                 JP  \n",
       "2                   8.8     2320505.0                 JP  \n",
       "3                   7.6      517631.0                 JP  \n",
       "4                   7.4       26044.0                 JP  \n",
       "...                 ...           ...                ...  \n",
       "9838                8.2       38403.0             JP, US  \n",
       "9839                7.5         729.0                 JP  \n",
       "9840                6.6          13.0                 JP  \n",
       "9842                4.7         316.0                 JP  \n",
       "9843                6.2         109.0                 US  \n",
       "\n",
       "[8660 rows x 8 columns]"
      ]
     },
     "execution_count": 25,
     "metadata": {},
     "output_type": "execute_result"
    }
   ],
   "source": [
    "df"
   ]
  },
  {
   "cell_type": "markdown",
   "id": "86fb2a17-7c1e-4469-8ec7-c12ac53c5d62",
   "metadata": {},
   "source": [
    "#### fix imdbid "
   ]
  },
  {
   "cell_type": "code",
   "execution_count": 28,
   "id": "ddfcef27-bb75-4559-9edf-121a4dfed358",
   "metadata": {},
   "outputs": [
    {
     "name": "stderr",
     "output_type": "stream",
     "text": [
      "C:\\Users\\DELL\\AppData\\Local\\Temp\\ipykernel_5700\\2463059581.py:1: SettingWithCopyWarning: \n",
      "A value is trying to be set on a copy of a slice from a DataFrame.\n",
      "Try using .loc[row_indexer,col_indexer] = value instead\n",
      "\n",
      "See the caveats in the documentation: https://pandas.pydata.org/pandas-docs/stable/user_guide/indexing.html#returning-a-view-versus-a-copy\n",
      "  df['imdbId'] = df['imdbId'].str.replace('tt', '', regex=False)\n"
     ]
    }
   ],
   "source": [
    "df['imdbId'] = df['imdbId'].str.replace('tt', '', regex=False)"
   ]
  },
  {
   "cell_type": "code",
   "execution_count": 30,
   "id": "9eec302b-23b9-4bc6-8ba6-c9974d1e5b3b",
   "metadata": {},
   "outputs": [
    {
     "data": {
      "text/html": [
       "<div>\n",
       "<style scoped>\n",
       "    .dataframe tbody tr th:only-of-type {\n",
       "        vertical-align: middle;\n",
       "    }\n",
       "\n",
       "    .dataframe tbody tr th {\n",
       "        vertical-align: top;\n",
       "    }\n",
       "\n",
       "    .dataframe thead th {\n",
       "        text-align: right;\n",
       "    }\n",
       "</style>\n",
       "<table border=\"1\" class=\"dataframe\">\n",
       "  <thead>\n",
       "    <tr style=\"text-align: right;\">\n",
       "      <th></th>\n",
       "      <th>title</th>\n",
       "      <th>type</th>\n",
       "      <th>genres</th>\n",
       "      <th>releaseYear</th>\n",
       "      <th>imdbId</th>\n",
       "      <th>imdbAverageRating</th>\n",
       "      <th>imdbNumVotes</th>\n",
       "      <th>availableCountries</th>\n",
       "    </tr>\n",
       "  </thead>\n",
       "  <tbody>\n",
       "    <tr>\n",
       "      <th>0</th>\n",
       "      <td>Ariel</td>\n",
       "      <td>movie</td>\n",
       "      <td>Comedy, Crime, Romance</td>\n",
       "      <td>1988</td>\n",
       "      <td>0094675</td>\n",
       "      <td>7.4</td>\n",
       "      <td>8776.0</td>\n",
       "      <td>JP</td>\n",
       "    </tr>\n",
       "    <tr>\n",
       "      <th>1</th>\n",
       "      <td>Shadows in Paradise</td>\n",
       "      <td>movie</td>\n",
       "      <td>Comedy, Drama, Music</td>\n",
       "      <td>1986</td>\n",
       "      <td>0092149</td>\n",
       "      <td>7.5</td>\n",
       "      <td>7538.0</td>\n",
       "      <td>JP</td>\n",
       "    </tr>\n",
       "    <tr>\n",
       "      <th>2</th>\n",
       "      <td>Forrest Gump</td>\n",
       "      <td>movie</td>\n",
       "      <td>Drama, Romance</td>\n",
       "      <td>1994</td>\n",
       "      <td>0109830</td>\n",
       "      <td>8.8</td>\n",
       "      <td>2320505.0</td>\n",
       "      <td>JP</td>\n",
       "    </tr>\n",
       "    <tr>\n",
       "      <th>3</th>\n",
       "      <td>The Fifth Element</td>\n",
       "      <td>movie</td>\n",
       "      <td>Action, Adventure, Sci-Fi</td>\n",
       "      <td>1997</td>\n",
       "      <td>0119116</td>\n",
       "      <td>7.6</td>\n",
       "      <td>517631.0</td>\n",
       "      <td>JP</td>\n",
       "    </tr>\n",
       "    <tr>\n",
       "      <th>4</th>\n",
       "      <td>My Life Without Me</td>\n",
       "      <td>movie</td>\n",
       "      <td>Drama, Romance</td>\n",
       "      <td>2003</td>\n",
       "      <td>0314412</td>\n",
       "      <td>7.4</td>\n",
       "      <td>26044.0</td>\n",
       "      <td>JP</td>\n",
       "    </tr>\n",
       "    <tr>\n",
       "      <th>5</th>\n",
       "      <td>Pirates of the Caribbean: The Curse of the Bla...</td>\n",
       "      <td>movie</td>\n",
       "      <td>Action, Adventure, Fantasy</td>\n",
       "      <td>2003</td>\n",
       "      <td>0325980</td>\n",
       "      <td>8.1</td>\n",
       "      <td>1238597.0</td>\n",
       "      <td>US</td>\n",
       "    </tr>\n",
       "    <tr>\n",
       "      <th>6</th>\n",
       "      <td>Unforgiven</td>\n",
       "      <td>movie</td>\n",
       "      <td>Drama, Western</td>\n",
       "      <td>1992</td>\n",
       "      <td>0105695</td>\n",
       "      <td>8.2</td>\n",
       "      <td>444402.0</td>\n",
       "      <td>JP</td>\n",
       "    </tr>\n",
       "    <tr>\n",
       "      <th>7</th>\n",
       "      <td>12 Monkeys</td>\n",
       "      <td>movie</td>\n",
       "      <td>Mystery, Sci-Fi, Thriller</td>\n",
       "      <td>1995</td>\n",
       "      <td>0114746</td>\n",
       "      <td>8.0</td>\n",
       "      <td>656154.0</td>\n",
       "      <td>JP</td>\n",
       "    </tr>\n",
       "    <tr>\n",
       "      <th>8</th>\n",
       "      <td>Million Dollar Baby</td>\n",
       "      <td>movie</td>\n",
       "      <td>Drama, Sport</td>\n",
       "      <td>2004</td>\n",
       "      <td>0405159</td>\n",
       "      <td>8.1</td>\n",
       "      <td>733391.0</td>\n",
       "      <td>JP</td>\n",
       "    </tr>\n",
       "    <tr>\n",
       "      <th>9</th>\n",
       "      <td>War of the Worlds</td>\n",
       "      <td>movie</td>\n",
       "      <td>Action, Adventure, Sci-Fi</td>\n",
       "      <td>2005</td>\n",
       "      <td>0407304</td>\n",
       "      <td>6.5</td>\n",
       "      <td>483261.0</td>\n",
       "      <td>JP</td>\n",
       "    </tr>\n",
       "  </tbody>\n",
       "</table>\n",
       "</div>"
      ],
      "text/plain": [
       "                                               title   type  \\\n",
       "0                                              Ariel  movie   \n",
       "1                                Shadows in Paradise  movie   \n",
       "2                                       Forrest Gump  movie   \n",
       "3                                  The Fifth Element  movie   \n",
       "4                                 My Life Without Me  movie   \n",
       "5  Pirates of the Caribbean: The Curse of the Bla...  movie   \n",
       "6                                         Unforgiven  movie   \n",
       "7                                         12 Monkeys  movie   \n",
       "8                                Million Dollar Baby  movie   \n",
       "9                                  War of the Worlds  movie   \n",
       "\n",
       "                       genres  releaseYear   imdbId  imdbAverageRating  \\\n",
       "0      Comedy, Crime, Romance         1988  0094675                7.4   \n",
       "1        Comedy, Drama, Music         1986  0092149                7.5   \n",
       "2              Drama, Romance         1994  0109830                8.8   \n",
       "3   Action, Adventure, Sci-Fi         1997  0119116                7.6   \n",
       "4              Drama, Romance         2003  0314412                7.4   \n",
       "5  Action, Adventure, Fantasy         2003  0325980                8.1   \n",
       "6              Drama, Western         1992  0105695                8.2   \n",
       "7   Mystery, Sci-Fi, Thriller         1995  0114746                8.0   \n",
       "8                Drama, Sport         2004  0405159                8.1   \n",
       "9   Action, Adventure, Sci-Fi         2005  0407304                6.5   \n",
       "\n",
       "   imdbNumVotes availableCountries  \n",
       "0        8776.0                 JP  \n",
       "1        7538.0                 JP  \n",
       "2     2320505.0                 JP  \n",
       "3      517631.0                 JP  \n",
       "4       26044.0                 JP  \n",
       "5     1238597.0                 US  \n",
       "6      444402.0                 JP  \n",
       "7      656154.0                 JP  \n",
       "8      733391.0                 JP  \n",
       "9      483261.0                 JP  "
      ]
     },
     "execution_count": 30,
     "metadata": {},
     "output_type": "execute_result"
    }
   ],
   "source": [
    "df.head(10)"
   ]
  },
  {
   "cell_type": "markdown",
   "id": "beed80d3-36f7-4ff8-b051-41e045561c55",
   "metadata": {},
   "source": [
    "#### extract type based on movies and tv "
   ]
  },
  {
   "cell_type": "code",
   "execution_count": 33,
   "id": "66f57324-09ec-43e7-baaa-0073b3038ee4",
   "metadata": {},
   "outputs": [],
   "source": [
    "movies_df = df[df['type'] == 'movie']\n",
    "tv_df = df[df['type'] == 'tv']\n"
   ]
  },
  {
   "cell_type": "code",
   "execution_count": 35,
   "id": "1e7b6244-5776-44ea-95b0-54e4f342c159",
   "metadata": {},
   "outputs": [
    {
     "data": {
      "text/html": [
       "<div>\n",
       "<style scoped>\n",
       "    .dataframe tbody tr th:only-of-type {\n",
       "        vertical-align: middle;\n",
       "    }\n",
       "\n",
       "    .dataframe tbody tr th {\n",
       "        vertical-align: top;\n",
       "    }\n",
       "\n",
       "    .dataframe thead th {\n",
       "        text-align: right;\n",
       "    }\n",
       "</style>\n",
       "<table border=\"1\" class=\"dataframe\">\n",
       "  <thead>\n",
       "    <tr style=\"text-align: right;\">\n",
       "      <th></th>\n",
       "      <th>title</th>\n",
       "      <th>type</th>\n",
       "      <th>genres</th>\n",
       "      <th>releaseYear</th>\n",
       "      <th>imdbId</th>\n",
       "      <th>imdbAverageRating</th>\n",
       "      <th>imdbNumVotes</th>\n",
       "      <th>availableCountries</th>\n",
       "    </tr>\n",
       "  </thead>\n",
       "  <tbody>\n",
       "    <tr>\n",
       "      <th>0</th>\n",
       "      <td>Ariel</td>\n",
       "      <td>movie</td>\n",
       "      <td>Comedy, Crime, Romance</td>\n",
       "      <td>1988</td>\n",
       "      <td>0094675</td>\n",
       "      <td>7.4</td>\n",
       "      <td>8776.0</td>\n",
       "      <td>JP</td>\n",
       "    </tr>\n",
       "    <tr>\n",
       "      <th>1</th>\n",
       "      <td>Shadows in Paradise</td>\n",
       "      <td>movie</td>\n",
       "      <td>Comedy, Drama, Music</td>\n",
       "      <td>1986</td>\n",
       "      <td>0092149</td>\n",
       "      <td>7.5</td>\n",
       "      <td>7538.0</td>\n",
       "      <td>JP</td>\n",
       "    </tr>\n",
       "    <tr>\n",
       "      <th>2</th>\n",
       "      <td>Forrest Gump</td>\n",
       "      <td>movie</td>\n",
       "      <td>Drama, Romance</td>\n",
       "      <td>1994</td>\n",
       "      <td>0109830</td>\n",
       "      <td>8.8</td>\n",
       "      <td>2320505.0</td>\n",
       "      <td>JP</td>\n",
       "    </tr>\n",
       "    <tr>\n",
       "      <th>3</th>\n",
       "      <td>The Fifth Element</td>\n",
       "      <td>movie</td>\n",
       "      <td>Action, Adventure, Sci-Fi</td>\n",
       "      <td>1997</td>\n",
       "      <td>0119116</td>\n",
       "      <td>7.6</td>\n",
       "      <td>517631.0</td>\n",
       "      <td>JP</td>\n",
       "    </tr>\n",
       "    <tr>\n",
       "      <th>4</th>\n",
       "      <td>My Life Without Me</td>\n",
       "      <td>movie</td>\n",
       "      <td>Drama, Romance</td>\n",
       "      <td>2003</td>\n",
       "      <td>0314412</td>\n",
       "      <td>7.4</td>\n",
       "      <td>26044.0</td>\n",
       "      <td>JP</td>\n",
       "    </tr>\n",
       "    <tr>\n",
       "      <th>5</th>\n",
       "      <td>Pirates of the Caribbean: The Curse of the Bla...</td>\n",
       "      <td>movie</td>\n",
       "      <td>Action, Adventure, Fantasy</td>\n",
       "      <td>2003</td>\n",
       "      <td>0325980</td>\n",
       "      <td>8.1</td>\n",
       "      <td>1238597.0</td>\n",
       "      <td>US</td>\n",
       "    </tr>\n",
       "    <tr>\n",
       "      <th>6</th>\n",
       "      <td>Unforgiven</td>\n",
       "      <td>movie</td>\n",
       "      <td>Drama, Western</td>\n",
       "      <td>1992</td>\n",
       "      <td>0105695</td>\n",
       "      <td>8.2</td>\n",
       "      <td>444402.0</td>\n",
       "      <td>JP</td>\n",
       "    </tr>\n",
       "    <tr>\n",
       "      <th>7</th>\n",
       "      <td>12 Monkeys</td>\n",
       "      <td>movie</td>\n",
       "      <td>Mystery, Sci-Fi, Thriller</td>\n",
       "      <td>1995</td>\n",
       "      <td>0114746</td>\n",
       "      <td>8.0</td>\n",
       "      <td>656154.0</td>\n",
       "      <td>JP</td>\n",
       "    </tr>\n",
       "    <tr>\n",
       "      <th>8</th>\n",
       "      <td>Million Dollar Baby</td>\n",
       "      <td>movie</td>\n",
       "      <td>Drama, Sport</td>\n",
       "      <td>2004</td>\n",
       "      <td>0405159</td>\n",
       "      <td>8.1</td>\n",
       "      <td>733391.0</td>\n",
       "      <td>JP</td>\n",
       "    </tr>\n",
       "    <tr>\n",
       "      <th>9</th>\n",
       "      <td>War of the Worlds</td>\n",
       "      <td>movie</td>\n",
       "      <td>Action, Adventure, Sci-Fi</td>\n",
       "      <td>2005</td>\n",
       "      <td>0407304</td>\n",
       "      <td>6.5</td>\n",
       "      <td>483261.0</td>\n",
       "      <td>JP</td>\n",
       "    </tr>\n",
       "  </tbody>\n",
       "</table>\n",
       "</div>"
      ],
      "text/plain": [
       "                                               title   type  \\\n",
       "0                                              Ariel  movie   \n",
       "1                                Shadows in Paradise  movie   \n",
       "2                                       Forrest Gump  movie   \n",
       "3                                  The Fifth Element  movie   \n",
       "4                                 My Life Without Me  movie   \n",
       "5  Pirates of the Caribbean: The Curse of the Bla...  movie   \n",
       "6                                         Unforgiven  movie   \n",
       "7                                         12 Monkeys  movie   \n",
       "8                                Million Dollar Baby  movie   \n",
       "9                                  War of the Worlds  movie   \n",
       "\n",
       "                       genres  releaseYear   imdbId  imdbAverageRating  \\\n",
       "0      Comedy, Crime, Romance         1988  0094675                7.4   \n",
       "1        Comedy, Drama, Music         1986  0092149                7.5   \n",
       "2              Drama, Romance         1994  0109830                8.8   \n",
       "3   Action, Adventure, Sci-Fi         1997  0119116                7.6   \n",
       "4              Drama, Romance         2003  0314412                7.4   \n",
       "5  Action, Adventure, Fantasy         2003  0325980                8.1   \n",
       "6              Drama, Western         1992  0105695                8.2   \n",
       "7   Mystery, Sci-Fi, Thriller         1995  0114746                8.0   \n",
       "8                Drama, Sport         2004  0405159                8.1   \n",
       "9   Action, Adventure, Sci-Fi         2005  0407304                6.5   \n",
       "\n",
       "   imdbNumVotes availableCountries  \n",
       "0        8776.0                 JP  \n",
       "1        7538.0                 JP  \n",
       "2     2320505.0                 JP  \n",
       "3      517631.0                 JP  \n",
       "4       26044.0                 JP  \n",
       "5     1238597.0                 US  \n",
       "6      444402.0                 JP  \n",
       "7      656154.0                 JP  \n",
       "8      733391.0                 JP  \n",
       "9      483261.0                 JP  "
      ]
     },
     "execution_count": 35,
     "metadata": {},
     "output_type": "execute_result"
    }
   ],
   "source": [
    "movies_df.head(10)"
   ]
  },
  {
   "cell_type": "markdown",
   "id": "44ca0db3-c600-421d-968f-c8ed1f01cc2a",
   "metadata": {},
   "source": [
    "#### make two csv file based on type "
   ]
  },
  {
   "cell_type": "code",
   "execution_count": 38,
   "id": "a6c2d888-a1c0-4c0e-8baf-eae890aea248",
   "metadata": {},
   "outputs": [],
   "source": [
    "movies_df.to_csv(\"movies_dataset.csv\", index = False)\n",
    "tv_df.to_csv(\"tv_dataset.csv\", index = False)\n"
   ]
  },
  {
   "cell_type": "markdown",
   "id": "ec97840e-c72f-412f-ac5d-3e5a1404e0bb",
   "metadata": {},
   "source": [
    "#### Descriptive statistics for ratings"
   ]
  },
  {
   "cell_type": "code",
   "execution_count": 41,
   "id": "7fbf79df-cc98-4c81-898a-cef1b8cc77c3",
   "metadata": {},
   "outputs": [],
   "source": [
    "ratings_stats = df['imdbAverageRating'].describe()"
   ]
  },
  {
   "cell_type": "code",
   "execution_count": 43,
   "id": "10837042-1f62-4e99-846b-4cbba74553f9",
   "metadata": {},
   "outputs": [
    {
     "data": {
      "text/plain": [
       "count    8660.000000\n",
       "mean        6.561420\n",
       "std         1.054082\n",
       "min         2.000000\n",
       "25%         6.000000\n",
       "50%         6.700000\n",
       "75%         7.300000\n",
       "max         9.500000\n",
       "Name: imdbAverageRating, dtype: float64"
      ]
     },
     "execution_count": 43,
     "metadata": {},
     "output_type": "execute_result"
    }
   ],
   "source": [
    "ratings_stats"
   ]
  },
  {
   "cell_type": "markdown",
   "id": "e1fd8640-2dc2-40eb-bf48-9a21934e524b",
   "metadata": {},
   "source": [
    "#### Descriptive statistics for votes"
   ]
  },
  {
   "cell_type": "code",
   "execution_count": 46,
   "id": "339f7347-0dda-495b-877a-716cee74207c",
   "metadata": {},
   "outputs": [],
   "source": [
    "votes_stats = df['imdbNumVotes'].describe()"
   ]
  },
  {
   "cell_type": "code",
   "execution_count": 48,
   "id": "a192b88a-bc67-43a4-a508-e6f7bfcf2973",
   "metadata": {},
   "outputs": [
    {
     "data": {
      "text/plain": [
       "count    8.660000e+03\n",
       "mean     3.689379e+04\n",
       "std      1.472541e+05\n",
       "min      5.000000e+00\n",
       "25%      1.490000e+02\n",
       "50%      9.865000e+02\n",
       "75%      7.822250e+03\n",
       "max      2.965080e+06\n",
       "Name: imdbNumVotes, dtype: float64"
      ]
     },
     "execution_count": 48,
     "metadata": {},
     "output_type": "execute_result"
    }
   ],
   "source": [
    "votes_stats"
   ]
  },
  {
   "cell_type": "markdown",
   "id": "0b46fe97-180c-41f2-a1a7-d1b389766d01",
   "metadata": {},
   "source": [
    "#### Count movies/shows by release year"
   ]
  },
  {
   "cell_type": "code",
   "execution_count": 51,
   "id": "9a2c56c6-3e43-4777-b6d0-dcd76e0546a7",
   "metadata": {},
   "outputs": [],
   "source": [
    "movies_data = df[df['type'] == 'movie']\n",
    "release_year_movies_counts = movies_data['releaseYear'].value_counts().sort_index()"
   ]
  },
  {
   "cell_type": "code",
   "execution_count": 53,
   "id": "0ab7d1b9-0fe1-47a7-80c1-174d1f7fcb70",
   "metadata": {},
   "outputs": [
    {
     "data": {
      "text/plain": [
       "releaseYear\n",
       "1929      1\n",
       "1932      1\n",
       "1933      1\n",
       "1936      1\n",
       "1937      1\n",
       "       ... \n",
       "2020    270\n",
       "2021    341\n",
       "2022    399\n",
       "2023    252\n",
       "2024     63\n",
       "Name: count, Length: 88, dtype: int64"
      ]
     },
     "execution_count": 53,
     "metadata": {},
     "output_type": "execute_result"
    }
   ],
   "source": [
    "release_year_movies_counts"
   ]
  },
  {
   "cell_type": "code",
   "execution_count": 55,
   "id": "664a1fc7-68ff-4ca0-aff8-a7cd26d00145",
   "metadata": {},
   "outputs": [],
   "source": [
    "tv_data = df[df['type'] == 'tv']\n",
    "release_year_tv_counts = tv_data['releaseYear'].value_counts().sort_index()"
   ]
  },
  {
   "cell_type": "code",
   "execution_count": 57,
   "id": "1b761005-cb70-4407-8c82-5ad97ea2ed6f",
   "metadata": {},
   "outputs": [
    {
     "data": {
      "text/plain": [
       "releaseYear\n",
       "1960      1\n",
       "1962      1\n",
       "1963      1\n",
       "1965      2\n",
       "1967      1\n",
       "       ... \n",
       "2020    172\n",
       "2021    206\n",
       "2022    273\n",
       "2023    321\n",
       "2024    259\n",
       "Name: count, Length: 62, dtype: int64"
      ]
     },
     "execution_count": 57,
     "metadata": {},
     "output_type": "execute_result"
    }
   ],
   "source": [
    "release_year_tv_counts"
   ]
  },
  {
   "cell_type": "markdown",
   "id": "49194e26-0b5f-48b1-8bea-40817a21da71",
   "metadata": {},
   "source": [
    "### top imdb rating movies and tv shows"
   ]
  },
  {
   "cell_type": "code",
   "execution_count": 60,
   "id": "d5194f0c-fbc0-4239-a113-7251e315defa",
   "metadata": {},
   "outputs": [],
   "source": [
    "top_movies = movies_data[movies_data['imdbAverageRating'] > 9]"
   ]
  },
  {
   "cell_type": "code",
   "execution_count": 62,
   "id": "b8a3974c-6dc1-47d6-8c6e-0b2116b91589",
   "metadata": {},
   "outputs": [
    {
     "data": {
      "text/html": [
       "<div>\n",
       "<style scoped>\n",
       "    .dataframe tbody tr th:only-of-type {\n",
       "        vertical-align: middle;\n",
       "    }\n",
       "\n",
       "    .dataframe tbody tr th {\n",
       "        vertical-align: top;\n",
       "    }\n",
       "\n",
       "    .dataframe thead th {\n",
       "        text-align: right;\n",
       "    }\n",
       "</style>\n",
       "<table border=\"1\" class=\"dataframe\">\n",
       "  <thead>\n",
       "    <tr style=\"text-align: right;\">\n",
       "      <th></th>\n",
       "      <th>title</th>\n",
       "      <th>type</th>\n",
       "      <th>genres</th>\n",
       "      <th>releaseYear</th>\n",
       "      <th>imdbId</th>\n",
       "      <th>imdbAverageRating</th>\n",
       "      <th>imdbNumVotes</th>\n",
       "      <th>availableCountries</th>\n",
       "    </tr>\n",
       "  </thead>\n",
       "  <tbody>\n",
       "    <tr>\n",
       "      <th>47</th>\n",
       "      <td>The Godfather</td>\n",
       "      <td>movie</td>\n",
       "      <td>Crime, Drama</td>\n",
       "      <td>1972</td>\n",
       "      <td>0068646</td>\n",
       "      <td>9.2</td>\n",
       "      <td>2067715.0</td>\n",
       "      <td>JP</td>\n",
       "    </tr>\n",
       "    <tr>\n",
       "      <th>55</th>\n",
       "      <td>The Shawshank Redemption</td>\n",
       "      <td>movie</td>\n",
       "      <td>Drama</td>\n",
       "      <td>1994</td>\n",
       "      <td>0111161</td>\n",
       "      <td>9.3</td>\n",
       "      <td>2965080.0</td>\n",
       "      <td>JP</td>\n",
       "    </tr>\n",
       "    <tr>\n",
       "      <th>5373</th>\n",
       "      <td>Aikatsu Planet! Movie</td>\n",
       "      <td>movie</td>\n",
       "      <td>Animation, Comedy, Family</td>\n",
       "      <td>2022</td>\n",
       "      <td>24580508</td>\n",
       "      <td>9.4</td>\n",
       "      <td>40.0</td>\n",
       "      <td>JP</td>\n",
       "    </tr>\n",
       "    <tr>\n",
       "      <th>5790</th>\n",
       "      <td>Kataomoi</td>\n",
       "      <td>movie</td>\n",
       "      <td>Comedy, Drama, Romance</td>\n",
       "      <td>2023</td>\n",
       "      <td>28523340</td>\n",
       "      <td>9.5</td>\n",
       "      <td>6.0</td>\n",
       "      <td>JP</td>\n",
       "    </tr>\n",
       "  </tbody>\n",
       "</table>\n",
       "</div>"
      ],
      "text/plain": [
       "                         title   type                     genres  releaseYear  \\\n",
       "47               The Godfather  movie               Crime, Drama         1972   \n",
       "55    The Shawshank Redemption  movie                      Drama         1994   \n",
       "5373     Aikatsu Planet! Movie  movie  Animation, Comedy, Family         2022   \n",
       "5790                  Kataomoi  movie     Comedy, Drama, Romance         2023   \n",
       "\n",
       "        imdbId  imdbAverageRating  imdbNumVotes availableCountries  \n",
       "47     0068646                9.2     2067715.0                 JP  \n",
       "55     0111161                9.3     2965080.0                 JP  \n",
       "5373  24580508                9.4          40.0                 JP  \n",
       "5790  28523340                9.5           6.0                 JP  "
      ]
     },
     "execution_count": 62,
     "metadata": {},
     "output_type": "execute_result"
    }
   ],
   "source": [
    "top_movies"
   ]
  },
  {
   "cell_type": "code",
   "execution_count": 64,
   "id": "208beb35-9c3b-4095-bbc7-f3c0f8db1616",
   "metadata": {},
   "outputs": [],
   "source": [
    "top_tv_shows = tv_data[tv_data['imdbAverageRating'] > 9]"
   ]
  },
  {
   "cell_type": "code",
   "execution_count": 66,
   "id": "0b3155bc-e12e-4e47-a59c-bf23cbaa8b53",
   "metadata": {},
   "outputs": [
    {
     "data": {
      "text/html": [
       "<div>\n",
       "<style scoped>\n",
       "    .dataframe tbody tr th:only-of-type {\n",
       "        vertical-align: middle;\n",
       "    }\n",
       "\n",
       "    .dataframe tbody tr th {\n",
       "        vertical-align: top;\n",
       "    }\n",
       "\n",
       "    .dataframe thead th {\n",
       "        text-align: right;\n",
       "    }\n",
       "</style>\n",
       "<table border=\"1\" class=\"dataframe\">\n",
       "  <thead>\n",
       "    <tr style=\"text-align: right;\">\n",
       "      <th></th>\n",
       "      <th>title</th>\n",
       "      <th>type</th>\n",
       "      <th>genres</th>\n",
       "      <th>releaseYear</th>\n",
       "      <th>imdbId</th>\n",
       "      <th>imdbAverageRating</th>\n",
       "      <th>imdbNumVotes</th>\n",
       "      <th>availableCountries</th>\n",
       "    </tr>\n",
       "  </thead>\n",
       "  <tbody>\n",
       "    <tr>\n",
       "      <th>6033</th>\n",
       "      <td>Attack on Titan</td>\n",
       "      <td>tv</td>\n",
       "      <td>Action, Adventure, Animation</td>\n",
       "      <td>2013</td>\n",
       "      <td>2560140</td>\n",
       "      <td>9.1</td>\n",
       "      <td>561479.0</td>\n",
       "      <td>US</td>\n",
       "    </tr>\n",
       "    <tr>\n",
       "      <th>6041</th>\n",
       "      <td>The Wire</td>\n",
       "      <td>tv</td>\n",
       "      <td>Crime, Drama, Thriller</td>\n",
       "      <td>2002</td>\n",
       "      <td>0306414</td>\n",
       "      <td>9.3</td>\n",
       "      <td>390876.0</td>\n",
       "      <td>JP</td>\n",
       "    </tr>\n",
       "    <tr>\n",
       "      <th>6217</th>\n",
       "      <td>The Joy of Painting</td>\n",
       "      <td>tv</td>\n",
       "      <td>Documentary, Family</td>\n",
       "      <td>1983</td>\n",
       "      <td>0383795</td>\n",
       "      <td>9.3</td>\n",
       "      <td>6487.0</td>\n",
       "      <td>US</td>\n",
       "    </tr>\n",
       "    <tr>\n",
       "      <th>6306</th>\n",
       "      <td>Sherlock</td>\n",
       "      <td>tv</td>\n",
       "      <td>Crime, Drama, Mystery</td>\n",
       "      <td>2010</td>\n",
       "      <td>1475582</td>\n",
       "      <td>9.1</td>\n",
       "      <td>1024983.0</td>\n",
       "      <td>JP, US</td>\n",
       "    </tr>\n",
       "    <tr>\n",
       "      <th>6406</th>\n",
       "      <td>Fullmetal Alchemist: Brotherhood</td>\n",
       "      <td>tv</td>\n",
       "      <td>Action, Adventure, Animation</td>\n",
       "      <td>2009</td>\n",
       "      <td>1355642</td>\n",
       "      <td>9.1</td>\n",
       "      <td>208850.0</td>\n",
       "      <td>JP, US</td>\n",
       "    </tr>\n",
       "    <tr>\n",
       "      <th>6966</th>\n",
       "      <td>The Chosen</td>\n",
       "      <td>tv</td>\n",
       "      <td>Drama, History</td>\n",
       "      <td>2017</td>\n",
       "      <td>9471404</td>\n",
       "      <td>9.2</td>\n",
       "      <td>51117.0</td>\n",
       "      <td>US</td>\n",
       "    </tr>\n",
       "    <tr>\n",
       "      <th>7094</th>\n",
       "      <td>Rick and Morty</td>\n",
       "      <td>tv</td>\n",
       "      <td>Adventure, Animation, Comedy</td>\n",
       "      <td>2013</td>\n",
       "      <td>2861424</td>\n",
       "      <td>9.1</td>\n",
       "      <td>627308.0</td>\n",
       "      <td>US</td>\n",
       "    </tr>\n",
       "    <tr>\n",
       "      <th>8607</th>\n",
       "      <td>9/11: One Day in America</td>\n",
       "      <td>tv</td>\n",
       "      <td>Documentary, History</td>\n",
       "      <td>2021</td>\n",
       "      <td>14734548</td>\n",
       "      <td>9.3</td>\n",
       "      <td>4916.0</td>\n",
       "      <td>US</td>\n",
       "    </tr>\n",
       "    <tr>\n",
       "      <th>9088</th>\n",
       "      <td>Styled</td>\n",
       "      <td>tv</td>\n",
       "      <td>Reality-TV</td>\n",
       "      <td>2022</td>\n",
       "      <td>21028634</td>\n",
       "      <td>9.2</td>\n",
       "      <td>72.0</td>\n",
       "      <td>US</td>\n",
       "    </tr>\n",
       "    <tr>\n",
       "      <th>9755</th>\n",
       "      <td>Playground</td>\n",
       "      <td>tv</td>\n",
       "      <td>Reality-TV</td>\n",
       "      <td>2024</td>\n",
       "      <td>15526466</td>\n",
       "      <td>9.2</td>\n",
       "      <td>60.0</td>\n",
       "      <td>US</td>\n",
       "    </tr>\n",
       "  </tbody>\n",
       "</table>\n",
       "</div>"
      ],
      "text/plain": [
       "                                 title type                        genres  \\\n",
       "6033                   Attack on Titan   tv  Action, Adventure, Animation   \n",
       "6041                          The Wire   tv        Crime, Drama, Thriller   \n",
       "6217               The Joy of Painting   tv           Documentary, Family   \n",
       "6306                          Sherlock   tv         Crime, Drama, Mystery   \n",
       "6406  Fullmetal Alchemist: Brotherhood   tv  Action, Adventure, Animation   \n",
       "6966                        The Chosen   tv                Drama, History   \n",
       "7094                    Rick and Morty   tv  Adventure, Animation, Comedy   \n",
       "8607          9/11: One Day in America   tv          Documentary, History   \n",
       "9088                            Styled   tv                    Reality-TV   \n",
       "9755                        Playground   tv                    Reality-TV   \n",
       "\n",
       "      releaseYear    imdbId  imdbAverageRating  imdbNumVotes  \\\n",
       "6033         2013   2560140                9.1      561479.0   \n",
       "6041         2002   0306414                9.3      390876.0   \n",
       "6217         1983   0383795                9.3        6487.0   \n",
       "6306         2010   1475582                9.1     1024983.0   \n",
       "6406         2009   1355642                9.1      208850.0   \n",
       "6966         2017   9471404                9.2       51117.0   \n",
       "7094         2013   2861424                9.1      627308.0   \n",
       "8607         2021  14734548                9.3        4916.0   \n",
       "9088         2022  21028634                9.2          72.0   \n",
       "9755         2024  15526466                9.2          60.0   \n",
       "\n",
       "     availableCountries  \n",
       "6033                 US  \n",
       "6041                 JP  \n",
       "6217                 US  \n",
       "6306             JP, US  \n",
       "6406             JP, US  \n",
       "6966                 US  \n",
       "7094                 US  \n",
       "8607                 US  \n",
       "9088                 US  \n",
       "9755                 US  "
      ]
     },
     "execution_count": 66,
     "metadata": {},
     "output_type": "execute_result"
    }
   ],
   "source": [
    "top_tv_shows"
   ]
  },
  {
   "cell_type": "code",
   "execution_count": 68,
   "id": "d7ba59e2-efca-4445-9daa-44fc4712b177",
   "metadata": {},
   "outputs": [],
   "source": [
    "# visualization\n",
    "# financial (term) improvement"
   ]
  },
  {
   "cell_type": "markdown",
   "id": "b817785b-8ac3-4fc0-873d-62d59d38c485",
   "metadata": {},
   "source": [
    "### Distribution of Release Years\n"
   ]
  },
  {
   "cell_type": "code",
   "execution_count": 71,
   "id": "8318c630-9cdd-49f9-8539-0fb77321c290",
   "metadata": {},
   "outputs": [],
   "source": [
    "import matplotlib.pyplot as plt\n",
    "import seaborn as sns"
   ]
  },
  {
   "cell_type": "code",
   "execution_count": 72,
   "id": "e7311fd6-770f-45e8-bc2d-ca0cba200a9f",
   "metadata": {},
   "outputs": [
    {
     "data": {
      "text/plain": [
       "<Axes: xlabel='releaseYear', ylabel='Count'>"
      ]
     },
     "execution_count": 72,
     "metadata": {},
     "output_type": "execute_result"
    },
    {
     "data": {
      "image/png": "[encoded data removed]",
      "text/plain": [
       "<Figure size 640x480 with 1 Axes>"
      ]
     },
     "metadata": {},
     "output_type": "display_data"
    }
   ],
   "source": [
    "sns.histplot(movies_data['releaseYear'], bins=30, kde=False, color='skyblue')"
   ]
  },
  {
   "cell_type": "code",
   "execution_count": 73,
   "id": "0ddebaae-750d-4023-bf42-7d93a62a5e82",
   "metadata": {},
   "outputs": [
    {
     "data": {
      "text/plain": [
       "<Axes: xlabel='releaseYear', ylabel='Count'>"
      ]
     },
     "execution_count": 73,
     "metadata": {},
     "output_type": "execute_result"
    },
    {
     "data": {
      "image/png": "[encoded data removed]",
      "text/plain": [
       "<Figure size 640x480 with 1 Axes>"
      ]
     },
     "metadata": {},
     "output_type": "display_data"
    }
   ],
   "source": [
    "sns.histplot(tv_data['releaseYear'], bins=30, kde=False, color='skyblue')\n"
   ]
  },
  {
   "cell_type": "markdown",
   "id": "2976c035-4f89-4bd1-9dea-4ae29749f239",
   "metadata": {},
   "source": [
    "## Relationship Between IMDb Ratings and Number of Votes"
   ]
  },
  {
   "cell_type": "code",
   "execution_count": 78,
   "id": "018d743c-17dd-45aa-a158-aeff4756067d",
   "metadata": {},
   "outputs": [
    {
     "data": {
      "text/plain": [
       "<Axes: xlabel='imdbAverageRating', ylabel='imdbNumVotes'>"
      ]
     },
     "execution_count": 78,
     "metadata": {},
     "output_type": "execute_result"
    },
    {
     "data": {
      "image/png": "[encoded data removed]",
      "text/plain": [
       "<Figure size 640x480 with 1 Axes>"
      ]
     },
     "metadata": {},
     "output_type": "display_data"
    }
   ],
   "source": [
    "sns.scatterplot(x='imdbAverageRating', \n",
    "                y='imdbNumVotes',\n",
    "                data=df)"
   ]
  },
  {
   "cell_type": "markdown",
   "id": "4feb2f4d-2d2d-4815-98e3-fe985adc4b3c",
   "metadata": {},
   "source": [
    "## top 10 movies  "
   ]
  },
  {
   "cell_type": "code",
   "execution_count": 81,
   "id": "c692e209-1dfe-4f07-adf5-7a9a3f87f0cc",
   "metadata": {},
   "outputs": [],
   "source": [
    "top_movies = movies_data.nlargest(10, 'imdbAverageRating')[['title', 'imdbAverageRating']]"
   ]
  },
  {
   "cell_type": "code",
   "execution_count": 83,
   "id": "6291b1c1-a71b-4d04-a1c8-9a93dc8e9f20",
   "metadata": {},
   "outputs": [
    {
     "data": {
      "text/plain": [
       "<Axes: xlabel='imdbAverageRating', ylabel='title'>"
      ]
     },
     "execution_count": 83,
     "metadata": {},
     "output_type": "execute_result"
    },
    {
     "data": {
      "image/png": "[encoded data removed]",
      "text/plain": [
       "<Figure size 640x480 with 1 Axes>"
      ]
     },
     "metadata": {},
     "output_type": "display_data"
    }
   ],
   "source": [
    "sns.barplot(x='imdbAverageRating', y='title', data=top_movies)"
   ]
  },
  {
   "cell_type": "markdown",
   "id": "5993ab07-230c-44ad-bf32-d6cc571ae608",
   "metadata": {},
   "source": [
    "# top 10 tv shows"
   ]
  },
  {
   "cell_type": "code",
   "execution_count": 86,
   "id": "bd1eaac3-e705-4ca8-bf2f-15935a242197",
   "metadata": {},
   "outputs": [],
   "source": [
    "top_tv_shows = tv_data.nlargest(10,'imdbAverageRating')[['title', 'imdbAverageRating']]"
   ]
  },
  {
   "cell_type": "code",
   "execution_count": 88,
   "id": "4802835a-75c9-417d-b56c-26b20463de06",
   "metadata": {},
   "outputs": [
    {
     "data": {
      "text/plain": [
       "<Axes: xlabel='imdbAverageRating', ylabel='title'>"
      ]
     },
     "execution_count": 88,
     "metadata": {},
     "output_type": "execute_result"
    },
    {
     "data": {
      "image/png": "[encoded data removed]",
      "text/plain": [
       "<Figure size 640x480 with 1 Axes>"
      ]
     },
     "metadata": {},
     "output_type": "display_data"
    }
   ],
   "source": [
    "sns.barplot(x='imdbAverageRating', y='title', data=top_tv_shows)"
   ]
  },
  {
   "cell_type": "markdown",
   "id": "a157ba65-c611-49b3-91c2-e5709f8cafea",
   "metadata": {},
   "source": [
    "# Movies Availability by Country"
   ]
  },
  {
   "cell_type": "code",
   "execution_count": 91,
   "id": "df28ac87-ce37-4b73-b420-b8bca6174300",
   "metadata": {},
   "outputs": [],
   "source": [
    "country_count = df['availableCountries'].value_counts()"
   ]
  },
  {
   "cell_type": "code",
   "execution_count": 93,
   "id": "8580a0c6-f24c-4881-87bc-0d4625ce7d66",
   "metadata": {},
   "outputs": [
    {
     "data": {
      "text/plain": [
       "([<matplotlib.patches.Wedge at 0x228485d7cb0>,\n",
       "  <matplotlib.patches.Wedge at 0x228486de540>,\n",
       "  <matplotlib.patches.Wedge at 0x2284871d910>],\n",
       " [Text(-0.6035581885264466, 0.9196290083847259, 'JP'),\n",
       "  Text(0.5181404455955836, -0.9703249345647108, 'US'),\n",
       "  Text(1.0955153311041226, -0.09922781523254831, 'JP, US')],\n",
       " [Text(-0.32921355737806174, 0.501615822755305, '68.5%'),\n",
       "  Text(0.2826220612339546, -0.5292681461262059, '28.6%'),\n",
       "  Text(0.597553816965885, -0.054124262854117255, '2.9%')])"
      ]
     },
     "execution_count": 93,
     "metadata": {},
     "output_type": "execute_result"
    },
    {
     "data": {
      "image/png": "[encoded data removed]",
      "text/plain": [
       "<Figure size 640x480 with 1 Axes>"
      ]
     },
     "metadata": {},
     "output_type": "display_data"
    }
   ],
   "source": [
    "plt.pie(country_count, labels=country_count.index, autopct='%1.1f%%')"
   ]
  },
  {
   "cell_type": "markdown",
   "id": "ebe62203-ecbd-4de1-a6e4-7b21ae94efaf",
   "metadata": {},
   "source": [
    "# Most Common Genres"
   ]
  },
  {
   "cell_type": "code",
   "execution_count": 96,
   "id": "a9591559-6dd8-42f9-b23d-ff7286d69922",
   "metadata": {},
   "outputs": [],
   "source": [
    "from collections import Counter"
   ]
  },
  {
   "cell_type": "code",
   "execution_count": 98,
   "id": "5c304099-236f-4c05-87b0-2c5e739e6364",
   "metadata": {},
   "outputs": [],
   "source": [
    "genres_split = df['genres'].dropna().str.split(', ')\n",
    "genres_count = Counter([genre for sublist in genres_split for genre in sublist])"
   ]
  },
  {
   "cell_type": "code",
   "execution_count": 100,
   "id": "7559a72f-c39f-414a-83af-6a6e8546d549",
   "metadata": {},
   "outputs": [],
   "source": [
    "genres_df = pd.DataFrame(genres_count.items(), columns=['Genre', 'Count']).sort_values(by='Count', ascending=False)"
   ]
  },
  {
   "cell_type": "code",
   "execution_count": 102,
   "id": "7618f3ae-d73b-4a57-9418-30656e7e353c",
   "metadata": {},
   "outputs": [
    {
     "name": "stderr",
     "output_type": "stream",
     "text": [
      "C:\\Users\\DELL\\AppData\\Local\\Temp\\ipykernel_5700\\2864864768.py:1: FutureWarning: \n",
      "\n",
      "Passing `palette` without assigning `hue` is deprecated and will be removed in v0.14.0. Assign the `y` variable to `hue` and set `legend=False` for the same effect.\n",
      "\n",
      "  sns.barplot(x='Count', y='Genre', data=genres_df, palette='viridis')\n"
     ]
    },
    {
     "data": {
      "text/plain": [
       "<Axes: xlabel='Count', ylabel='Genre'>"
      ]
     },
     "execution_count": 102,
     "metadata": {},
     "output_type": "execute_result"
    },
    {
     "data": {
      "image/png": "[encoded data removed]",
      "text/plain": [
       "<Figure size 640x480 with 1 Axes>"
      ]
     },
     "metadata": {},
     "output_type": "display_data"
    }
   ],
   "source": [
    "sns.barplot(x='Count', y='Genre', data=genres_df, palette='viridis')"
   ]
  },
  {
   "cell_type": "markdown",
   "id": "606d859f-3ae4-4dfc-aa8c-561a4d8b1dc2",
   "metadata": {},
   "source": [
    "# financial Terms"
   ]
  },
  {
   "cell_type": "markdown",
   "id": "6f5d8dcf-08c4-4d3b-8d8a-4c82382d5b75",
   "metadata": {},
   "source": [
    "# trend analysis"
   ]
  },
  {
   "cell_type": "code",
   "execution_count": 105,
   "id": "ffff5c1b-b4ad-490b-85ee-8ed05edb291a",
   "metadata": {},
   "outputs": [],
   "source": [
    "trend_data = df.groupby('releaseYear').agg({'imdbAverageRating': 'mean', 'imdbNumVotes': 'sum'}).dropna()"
   ]
  },
  {
   "cell_type": "code",
   "execution_count": 107,
   "id": "474553b6-0cd1-4c70-8a1f-fd1ba8814afd",
   "metadata": {},
   "outputs": [
    {
     "data": {
      "image/png": "[encoded data removed]",
      "text/plain": [
       "<Figure size 1200x600 with 1 Axes>"
      ]
     },
     "metadata": {},
     "output_type": "display_data"
    }
   ],
   "source": [
    "plt.figure(figsize=(12, 6))\n",
    "plt.plot(trend_data.index, trend_data['imdbAverageRating'], marker='o', label='Average IMDb Rating', color='blue')\n",
    "plt.title('Trend Analysis: IMDb Ratings Over Years', fontsize=14)\n",
    "plt.xlabel('Release Year', fontsize=12)\n",
    "plt.ylabel('Average IMDb Rating', fontsize=12)\n",
    "plt.grid(alpha=0.3)\n",
    "plt.legend()\n",
    "plt.show()"
   ]
  },
  {
   "cell_type": "code",
   "execution_count": 112,
   "id": "3f1a7a1f-ae93-462c-8d31-61dd1ee9e710",
   "metadata": {},
   "outputs": [],
   "source": [
    "rating_std = df['imdbAverageRating'].std()"
   ]
  },
  {
   "cell_type": "code",
   "execution_count": 116,
   "id": "63c89355-4c9a-4745-8519-0b933427a050",
   "metadata": {},
   "outputs": [],
   "source": [
    "correlation = df[['imdbAverageRating', 'imdbNumVotes']].corr().iloc[0, 1]"
   ]
  },
  {
   "cell_type": "code",
   "execution_count": 120,
   "id": "8ccb7498-8878-4321-bacf-9e2fcb8b8317",
   "metadata": {},
   "outputs": [
    {
     "name": "stdout",
     "output_type": "stream",
     "text": [
      "Financial-Style Analysis Summary:\n",
      "Average Rating (All Time): 6.561420323325636\n",
      "Rating Standard Deviation (Volatility): 1.0540821132698999\n",
      "Correlation (Votes vs. Ratings): 0.21923374203450324\n"
     ]
    }
   ],
   "source": [
    "trend_summary = {\n",
    "    \"Average Rating (All Time)\": df['imdbAverageRating'].mean(),\n",
    "    \"Rating Standard Deviation (Volatility)\": rating_std,\n",
    "    \"Correlation (Votes vs. Ratings)\": correlation\n",
    "}\n",
    "\n",
    "print(\"Financial-Style Analysis Summary:\")\n",
    "for key, value in trend_summary.items():\n",
    "    print(f\"{key}: {value}\")"
   ]
  },
  {
   "cell_type": "code",
   "execution_count": null,
   "id": "8710cd72-479b-4510-be00-1d5073663682",
   "metadata": {},
   "outputs": [],
   "source": []
  }
 ],
 "metadata": {
  "kernelspec": {
   "display_name": "Python 3 (ipykernel)",
   "language": "python",
   "name": "python3"
  },
  "language_info": {
   "codemirror_mode": {
    "name": "ipython",
    "version": 3
   },
   "file_extension": ".py",
   "mimetype": "text/x-python",
   "name": "python",
   "nbconvert_exporter": "python",
   "pygments_lexer": "ipython3",
   "version": "3.12.7"
  }
 },
 "nbformat": 4,
 "nbformat_minor": 5
}
